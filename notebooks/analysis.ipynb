{
 "cells": [
  {
   "cell_type": "code",
   "execution_count": null,
   "metadata": {},
   "outputs": [],
   "source": [
    "import pandas as pd\n",
    "import numpy as np\n",
    "import matplotlib.pyplot as plt\n",
    "import seaborn as sns\n",
    "from pathlib import Path\n",
    "import os\n",
    "import sys\n",
    "\n",
    "# Configurações de visualização\n",
    "plt.style.use('seaborn')\n",
    "sns.set_palette(\"husl\")\n",
    "%matplotlib inline\n",
    "\n",
    "# Configurar o notebook para exibir mais colunas\n",
    "pd.set_option('display.max_columns', None)\n",
    "\n",
    "# Adiciona o diretório raiz do projeto ao PYTHONPATH\n",
    "project_root = Path().absolute().parent\n",
    "if str(project_root) not in sys.path:\n",
    "    sys.path.insert(0, str(project_root))\n",
    "\n",
    "# Importações do projeto\n",
    "from src.utils.technical_indicators import add_technical_indicators\n",
    "from src.utils.config_loader import load_config\n",
    "from src.utils.data_validator import DataValidator\n",
    "\n",
    "# Carregar configurações\n",
    "env_cfg = load_config('config/env_config.yaml')\n",
    "\n",
    "# Definir diretório de dados\n",
    "DATA_DIR = Path('data/raw')\n"
   ]
  },
  {
   "cell_type": "markdown",
   "metadata": {},
   "source": [
    "# Análise Exploratória de Dados para Trading com RL\n",
    "\n",
    "Este notebook contém a análise exploratória dos dados utilizados no projeto de trading com Reinforcement Learning. Vamos analisar os dados históricos, indicadores técnicos e padrões de mercado."
   ]
  },
  {
   "cell_type": "code",
   "execution_count": null,
   "metadata": {},
   "outputs": [],
   "source": [
    "def load_market_data(symbol='AVAX', quote='USDT', timeframe='1h'):\n",
    "    \"\"\"Carrega dados do mercado a partir do arquivo CSV\"\"\"\n",
    "    filename = f\"{symbol}{quote}_{timeframe}.csv\"\n",
    "    filepath = DATA_DIR / filename\n",
    "    \n",
    "    if not filepath.exists():\n",
    "        raise FileNotFoundError(f\"Arquivo {filename} não encontrado em {DATA_DIR}\")\n",
    "    \n",
    "    df = pd.read_csv(filepath, parse_dates=['timestamp'])\n",
    "    df.set_index('timestamp', inplace=True)\n",
    "    \n",
    "    # Validação dos dados usando DataValidator\n",
    "    validator = DataValidator()\n",
    "    validator.validate_dataframe(df, required_columns=['open', 'high', 'low', 'close', 'volume'])\n",
    "    \n",
    "    # Adiciona indicadores técnicos\n",
    "    df = add_technical_indicators(df)\n",
    "    return df\n",
    "\n",
    "# Carregar dados de exemplo\n",
    "try:\n",
    "    df = load_market_data()\n",
    "    print(\"Dados carregados com sucesso!\")\n",
    "    print(f\"Período: {df.index.min()} até {df.index.max()}\")\n",
    "    print(f\"Total de registros: {len(df)}\")\n",
    "    print(\"\\nColunas disponíveis:\")\n",
    "    print(df.columns.tolist())\n",
    "except Exception as e:\n",
    "    print(f\"Erro ao carregar dados: {e}\")\n",
    "    raise\n"
   ]
  },
  {
   "cell_type": "markdown",
   "metadata": {},
   "source": [
    "## 1. Análise Estatística dos Preços\n",
    "\n",
    "Vamos examinar as estatísticas descritivas dos preços e volume de negociação."
   ]
  },
  {
   "cell_type": "code",
   "execution_count": null,
   "metadata": {},
   "outputs": [],
   "source": [
    "# Estatísticas descritivas\n",
    "print(\"Estatísticas descritivas dos preços:\")\n",
    "display(df[['open', 'high', 'low', 'close', 'volume']].describe())\n",
    "\n",
    "# Visualização da série temporal de preços\n",
    "plt.figure(figsize=(15, 7))\n",
    "plt.plot(df.index, df['close'], label='Preço de Fechamento')\n",
    "plt.title('Série Temporal de Preços')\n",
    "plt.xlabel('Data')\n",
    "plt.ylabel('Preço')\n",
    "plt.legend()\n",
    "plt.grid(True)\n",
    "plt.show()\n"
   ]
  },
  {
   "cell_type": "markdown",
   "metadata": {},
   "source": [
    "## 2. Análise de Indicadores Técnicos\n",
    "\n",
    "Vamos analisar os principais indicadores técnicos utilizados na estratégia de trading."
   ]
  },
  {
   "cell_type": "code",
   "execution_count": null,
   "metadata": {},
   "outputs": [],
   "source": [
    "# Análise de Indicadores Técnicos\n",
    "fig, axes = plt.subplots(3, 1, figsize=(15, 15))\n",
    "\n",
    "# RSI\n",
    "axes[0].plot(df.index, df['rsi_14'])\n",
    "axes[0].axhline(y=70, color='r', linestyle='--')\n",
    "axes[0].axhline(y=30, color='g', linestyle='--')\n",
    "axes[0].set_title('RSI (14)')\n",
    "axes[0].grid(True)\n",
    "\n",
    "# MACD\n",
    "axes[1].plot(df.index, df['macd'], label='MACD')\n",
    "axes[1].plot(df.index, df['macd_signal'], label='Sinal')\n",
    "axes[1].set_title('MACD')\n",
    "axes[1].legend()\n",
    "axes[1].grid(True)\n",
    "\n",
    "# Médias Móveis\n",
    "axes[2].plot(df.index, df['close'], label='Preço', alpha=0.5)\n",
    "axes[2].plot(df.index, df['sma_20'], label='SMA 20')\n",
    "axes[2].plot(df.index, df['ema_50'], label='EMA 50')\n",
    "axes[2].set_title('Médias Móveis')\n",
    "axes[2].legend()\n",
    "axes[2].grid(True)\n",
    "\n",
    "plt.tight_layout()\n",
    "plt.show()\n"
   ]
  },
  {
   "cell_type": "markdown",
   "metadata": {},
   "source": [
    "## 3. Análise de Volatilidade\n",
    "\n",
    "Vamos examinar a volatilidade do mercado usando o indicador ATR (Average True Range)."
   ]
  },
  {
   "cell_type": "code",
   "execution_count": null,
   "metadata": {},
   "outputs": [],
   "source": [
    "# Análise de Volatilidade\n",
    "plt.figure(figsize=(15, 7))\n",
    "plt.plot(df.index, df['atr_14'], label='ATR (14)')\n",
    "plt.title('Average True Range - Medida de Volatilidade')\n",
    "plt.xlabel('Data')\n",
    "plt.ylabel('ATR')\n",
    "plt.legend()\n",
    "plt.grid(True)\n",
    "plt.show()\n"
   ]
  },
  {
   "cell_type": "markdown",
   "metadata": {},
   "source": [
    "## 4. Correlação entre Indicadores\n",
    "\n",
    "Vamos analisar a correlação entre os diferentes indicadores técnicos."
   ]
  },
  {
   "cell_type": "code",
   "execution_count": null,
   "metadata": {},
   "outputs": [],
   "source": [
    "# Correlação entre indicadores\n",
    "corr_matrix = df[['close', 'rsi_14', 'macd', 'atr_14', 'sma_20', 'ema_50']].corr()\n",
    "\n",
    "plt.figure(figsize=(10, 8))\n",
    "sns.heatmap(corr_matrix, annot=True, cmap='coolwarm', center=0)\n",
    "plt.title('Matriz de Correlação entre Indicadores')\n",
    "plt.show()\n"
   ]
  }
 ],
 "metadata": {
  "kernelspec": {
   "display_name": "Python 3",
   "language": "python",
   "name": "python3"
  },
  "language_info": {
   "codemirror_mode": {
    "name": "ipython",
    "version": 3
   },
   "file_extension": ".py",
   "mimetype": "text/x-python",
   "name": "python",
   "nbconvert_exporter": "python",
   "pygments_lexer": "ipython3",
   "version": "3.8.0"
  }
 },
 "nbformat": 4,
 "nbformat_minor": 4
}
